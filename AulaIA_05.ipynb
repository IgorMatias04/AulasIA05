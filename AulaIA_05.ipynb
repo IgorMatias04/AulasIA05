{
  "nbformat": 4,
  "nbformat_minor": 0,
  "metadata": {
    "colab": {
      "provenance": [],
      "authorship_tag": "ABX9TyNpOcHdBM/8OmM/5n38Gyx7",
      "include_colab_link": true
    },
    "kernelspec": {
      "name": "python3",
      "display_name": "Python 3"
    },
    "language_info": {
      "name": "python"
    }
  },
  "cells": [
    {
      "cell_type": "markdown",
      "metadata": {
        "id": "view-in-github",
        "colab_type": "text"
      },
      "source": [
        "<a href=\"https://colab.research.google.com/github/IgorMatias04/AulaIA-05/blob/main/AulaIA_05.ipynb\" target=\"_parent\"><img src=\"https://colab.research.google.com/assets/colab-badge.svg\" alt=\"Open In Colab\"/></a>"
      ]
    },
    {
      "cell_type": "code",
      "execution_count": 1,
      "metadata": {
        "colab": {
          "base_uri": "https://localhost:8080/"
        },
        "id": "_SXPBFKTkOj-",
        "outputId": "5ef372e5-ca37-447c-aac8-5df9a8e99e7f"
      },
      "outputs": [
        {
          "output_type": "stream",
          "name": "stdout",
          "text": [
            ".. _iris_dataset:\n",
            "\n",
            "Iris plants dataset\n",
            "--------------------\n",
            "\n",
            "**Data Set Characteristics:**\n",
            "\n",
            "    :Number of Instances: 150 (50 in each of three classes)\n",
            "    :Number of Attributes: 4 numeric, predictive attributes and the class\n",
            "    :Attribute Information:\n",
            "        - sepal length in cm\n",
            "        - sepal width in cm\n",
            "        - petal length in cm\n",
            "        - petal width in cm\n",
            "        - class:\n",
            "                - Iris-Setosa\n",
            "                - Iris-Versicolour\n",
            "                - Iris-Virginica\n",
            "                \n",
            "    :Summary Statistics:\n",
            "\n",
            "    ============== ==== ==== ======= ===== ====================\n",
            "                    Min  Max   Mean    SD   Class Correlation\n",
            "    ============== ==== ==== ======= ===== ====================\n",
            "    sepal length:   4.3  7.9   5.84   0.83    0.7826\n",
            "    sepal width:    2.0  4.4   3.05   0.43   -0.4194\n",
            "    petal length:   1.0  6.9   3.76   1.76    0.9490  (high!)\n",
            "    petal width:    0.1  2.5   1.20   0.76    0.9565  (high!)\n",
            "    ============== ==== ==== ======= ===== ====================\n",
            "\n",
            "    :Missing Attribute Values: None\n",
            "    :Class Distribution: 33.3% for each of 3 classes.\n",
            "    :Creator: R.A. Fisher\n",
            "    :Donor: Michael Marshall (MARSHALL%PLU@io.arc.nasa.gov)\n",
            "    :Date: July, 1988\n",
            "\n",
            "The famous Iris database, first used by Sir R.A. Fisher. The dataset is taken\n",
            "from Fisher's paper. Note that it's the same as in R, but not as in the UCI\n",
            "Machine Learning Repository, which has two wrong data points.\n",
            "\n",
            "This is perhaps the best known database to be found in the\n",
            "pattern recognition literature.  Fisher's paper is a classic in the field and\n",
            "is referenced frequently to this day.  (See Duda & Hart, for example.)  The\n",
            "data set contains 3 classes of 50 instances each, where each class refers to a\n",
            "type of iris plant.  One class is linearly separable from the other 2; the\n",
            "latter are NOT linearly separable from each other.\n",
            "\n",
            ".. topic:: References\n",
            "\n",
            "   - Fisher, R.A. \"The use of multiple measurements in taxonomic problems\"\n",
            "     Annual Eugenics, 7, Part II, 179-188 (1936); also in \"Contributions to\n",
            "     Mathematical Statistics\" (John Wiley, NY, 1950).\n",
            "   - Duda, R.O., & Hart, P.E. (1973) Pattern Classification and Scene Analysis.\n",
            "     (Q327.D83) John Wiley & Sons.  ISBN 0-471-22361-1.  See page 218.\n",
            "   - Dasarathy, B.V. (1980) \"Nosing Around the Neighborhood: A New System\n",
            "     Structure and Classification Rule for Recognition in Partially Exposed\n",
            "     Environments\".  IEEE Transactions on Pattern Analysis and Machine\n",
            "     Intelligence, Vol. PAMI-2, No. 1, 67-71.\n",
            "   - Gates, G.W. (1972) \"The Reduced Nearest Neighbor Rule\".  IEEE Transactions\n",
            "     on Information Theory, May 1972, 431-433.\n",
            "   - See also: 1988 MLC Proceedings, 54-64.  Cheeseman et al\"s AUTOCLASS II\n",
            "     conceptual clustering system finds 3 classes in the data.\n",
            "   - Many, many more ...\n"
          ]
        }
      ],
      "source": [
        "from sklearn.datasets import load_iris\n",
        "from sklearn import tree\n",
        "\n",
        "iris = load_iris()\n",
        "print(iris['DESCR'])"
      ]
    },
    {
      "cell_type": "code",
      "source": [
        "from sklearn.model_selection import train_test_split\n",
        "X_train, X_test, y_train, y_test = train_test_split(iris.data, iris.target, test_size=0.25)"
      ],
      "metadata": {
        "id": "3fu07xLYkuGv"
      },
      "execution_count": 2,
      "outputs": []
    },
    {
      "cell_type": "code",
      "source": [
        "clf = tree.DecisionTreeClassifier(criterion='entropy', max_depth=3)\n",
        "clf = clf.fit(X_train, y_train)\n",
        "predictions = clf.predict(X_test)"
      ],
      "metadata": {
        "id": "D7A74ha9ljkP"
      },
      "execution_count": 4,
      "outputs": []
    },
    {
      "cell_type": "code",
      "source": [
        "import pandas as pd\n",
        "\n",
        "print(\"\\nMatriz de confusão detalhada:\\n\",\n",
        "      pd.crosstab(y_test, predictions, rownames=['Real'], colnames=\n",
        " ['Predito'],\n",
        "        margins=True, margins_name='Todos'))"
      ],
      "metadata": {
        "colab": {
          "base_uri": "https://localhost:8080/"
        },
        "id": "PAWOF4PrlzS-",
        "outputId": "39720320-644d-493a-fd3a-127ec8dcbe2e"
      },
      "execution_count": 5,
      "outputs": [
        {
          "output_type": "stream",
          "name": "stdout",
          "text": [
            "\n",
            "Matriz de confusão detalhada:\n",
            " Predito   0   1   2  Todos\n",
            "Real                      \n",
            "0        17   0   0     17\n",
            "1         0   7   1      8\n",
            "2         0   3  10     13\n",
            "Todos    17  10  11     38\n"
          ]
        }
      ]
    },
    {
      "cell_type": "code",
      "source": [
        "import sklearn.metrics as metrics\n",
        "\n",
        "print(\"Relatório sobre a qualidade:\\n\")\n",
        "\n",
        "print(metrics.classification_report(y_test, predictions, target_names=['Setosa', 'Versicolor', 'Virgínica']))"
      ],
      "metadata": {
        "colab": {
          "base_uri": "https://localhost:8080/"
        },
        "id": "vU1u6guKmbE2",
        "outputId": "013c9f78-b366-4e62-da7f-468c6a57bdcf"
      },
      "execution_count": 13,
      "outputs": [
        {
          "output_type": "stream",
          "name": "stdout",
          "text": [
            "Relatório sobre a qualidade:\n",
            "\n",
            "              precision    recall  f1-score   support\n",
            "\n",
            "      Setosa       1.00      1.00      1.00        17\n",
            "  Versicolor       0.70      0.88      0.78         8\n",
            "   Virgínica       0.91      0.77      0.83        13\n",
            "\n",
            "    accuracy                           0.89        38\n",
            "   macro avg       0.87      0.88      0.87        38\n",
            "weighted avg       0.91      0.89      0.90        38\n",
            "\n"
          ]
        }
      ]
    },
    {
      "cell_type": "code",
      "source": [
        "import graphviz\n",
        "dot_data = tree.export_graphviz(clf, out_file=None)\n",
        "graph = graphviz.Source(dot_data)\n",
        "graph.render(\"iris\")\n",
        "dot_data = tree.export_graphviz(clf, out_file=None,\n",
        "                              feature_names=iris.feature_names,\n",
        "                              class_names=iris.target_names,\n",
        "                              filled=True, rounded=True,\n",
        "                              special_characters=True)\n",
        "graph = graphviz.Source(dot_data, format=\"png\")\n",
        "graph"
      ],
      "metadata": {
        "colab": {
          "base_uri": "https://localhost:8080/",
          "height": 599
        },
        "id": "e2sJWngUm5Bu",
        "outputId": "40786957-fcae-4650-9e0c-f184cc9da5c6"
      },
      "execution_count": 14,
      "outputs": [
        {
          "output_type": "execute_result",
          "data": {
            "image/svg+xml": "<?xml version=\"1.0\" encoding=\"UTF-8\" standalone=\"no\"?>\n<!DOCTYPE svg PUBLIC \"-//W3C//DTD SVG 1.1//EN\"\n \"http://www.w3.org/Graphics/SVG/1.1/DTD/svg11.dtd\">\n<!-- Generated by graphviz version 2.43.0 (0)\n -->\n<!-- Title: Tree Pages: 1 -->\n<svg width=\"552pt\" height=\"433pt\"\n viewBox=\"0.00 0.00 552.00 433.00\" xmlns=\"http://www.w3.org/2000/svg\" xmlns:xlink=\"http://www.w3.org/1999/xlink\">\n<g id=\"graph0\" class=\"graph\" transform=\"scale(1 1) rotate(0) translate(4 429)\">\n<title>Tree</title>\n<polygon fill=\"white\" stroke=\"transparent\" points=\"-4,4 -4,-429 548,-429 548,4 -4,4\"/>\n<!-- 0 -->\n<g id=\"node1\" class=\"node\">\n<title>0</title>\n<path fill=\"#f2fdf7\" stroke=\"black\" d=\"M255.5,-425C255.5,-425 127.5,-425 127.5,-425 121.5,-425 115.5,-419 115.5,-413 115.5,-413 115.5,-354 115.5,-354 115.5,-348 121.5,-342 127.5,-342 127.5,-342 255.5,-342 255.5,-342 261.5,-342 267.5,-348 267.5,-354 267.5,-354 267.5,-413 267.5,-413 267.5,-419 261.5,-425 255.5,-425\"/>\n<text text-anchor=\"start\" x=\"123.5\" y=\"-409.8\" font-family=\"Helvetica,sans-Serif\" font-size=\"14.00\">petal length (cm) ≤ 2.5</text>\n<text text-anchor=\"start\" x=\"144\" y=\"-394.8\" font-family=\"Helvetica,sans-Serif\" font-size=\"14.00\">entropy = 1.578</text>\n<text text-anchor=\"start\" x=\"146.5\" y=\"-379.8\" font-family=\"Helvetica,sans-Serif\" font-size=\"14.00\">samples = 112</text>\n<text text-anchor=\"start\" x=\"133.5\" y=\"-364.8\" font-family=\"Helvetica,sans-Serif\" font-size=\"14.00\">value = [33, 42, 37]</text>\n<text text-anchor=\"start\" x=\"139\" y=\"-349.8\" font-family=\"Helvetica,sans-Serif\" font-size=\"14.00\">class = versicolor</text>\n</g>\n<!-- 1 -->\n<g id=\"node2\" class=\"node\">\n<title>1</title>\n<path fill=\"#e58139\" stroke=\"black\" d=\"M160,-298.5C160,-298.5 67,-298.5 67,-298.5 61,-298.5 55,-292.5 55,-286.5 55,-286.5 55,-242.5 55,-242.5 55,-236.5 61,-230.5 67,-230.5 67,-230.5 160,-230.5 160,-230.5 166,-230.5 172,-236.5 172,-242.5 172,-242.5 172,-286.5 172,-286.5 172,-292.5 166,-298.5 160,-298.5\"/>\n<text text-anchor=\"start\" x=\"73.5\" y=\"-283.3\" font-family=\"Helvetica,sans-Serif\" font-size=\"14.00\">entropy = 0.0</text>\n<text text-anchor=\"start\" x=\"72.5\" y=\"-268.3\" font-family=\"Helvetica,sans-Serif\" font-size=\"14.00\">samples = 33</text>\n<text text-anchor=\"start\" x=\"63\" y=\"-253.3\" font-family=\"Helvetica,sans-Serif\" font-size=\"14.00\">value = [33, 0, 0]</text>\n<text text-anchor=\"start\" x=\"70\" y=\"-238.3\" font-family=\"Helvetica,sans-Serif\" font-size=\"14.00\">class = setosa</text>\n</g>\n<!-- 0&#45;&gt;1 -->\n<g id=\"edge1\" class=\"edge\">\n<title>0&#45;&gt;1</title>\n<path fill=\"none\" stroke=\"black\" d=\"M164.44,-341.91C156.93,-330.65 148.78,-318.42 141.24,-307.11\"/>\n<polygon fill=\"black\" stroke=\"black\" points=\"144.07,-305.05 135.61,-298.67 138.25,-308.93 144.07,-305.05\"/>\n<text text-anchor=\"middle\" x=\"130.71\" y=\"-319.48\" font-family=\"Helvetica,sans-Serif\" font-size=\"14.00\">True</text>\n</g>\n<!-- 2 -->\n<g id=\"node3\" class=\"node\">\n<title>2</title>\n<path fill=\"#e7fcf0\" stroke=\"black\" d=\"M337,-306C337,-306 202,-306 202,-306 196,-306 190,-300 190,-294 190,-294 190,-235 190,-235 190,-229 196,-223 202,-223 202,-223 337,-223 337,-223 343,-223 349,-229 349,-235 349,-235 349,-294 349,-294 349,-300 343,-306 337,-306\"/>\n<text text-anchor=\"start\" x=\"198\" y=\"-290.8\" font-family=\"Helvetica,sans-Serif\" font-size=\"14.00\">petal length (cm) ≤ 4.85</text>\n<text text-anchor=\"start\" x=\"222\" y=\"-275.8\" font-family=\"Helvetica,sans-Serif\" font-size=\"14.00\">entropy = 0.997</text>\n<text text-anchor=\"start\" x=\"228.5\" y=\"-260.8\" font-family=\"Helvetica,sans-Serif\" font-size=\"14.00\">samples = 79</text>\n<text text-anchor=\"start\" x=\"215\" y=\"-245.8\" font-family=\"Helvetica,sans-Serif\" font-size=\"14.00\">value = [0, 42, 37]</text>\n<text text-anchor=\"start\" x=\"217\" y=\"-230.8\" font-family=\"Helvetica,sans-Serif\" font-size=\"14.00\">class = versicolor</text>\n</g>\n<!-- 0&#45;&gt;2 -->\n<g id=\"edge2\" class=\"edge\">\n<title>0&#45;&gt;2</title>\n<path fill=\"none\" stroke=\"black\" d=\"M218.56,-341.91C224.43,-333.1 230.7,-323.7 236.76,-314.61\"/>\n<polygon fill=\"black\" stroke=\"black\" points=\"239.85,-316.28 242.49,-306.02 234.03,-312.4 239.85,-316.28\"/>\n<text text-anchor=\"middle\" x=\"247.39\" y=\"-326.84\" font-family=\"Helvetica,sans-Serif\" font-size=\"14.00\">False</text>\n</g>\n<!-- 3 -->\n<g id=\"node4\" class=\"node\">\n<title>3</title>\n<path fill=\"#3ee684\" stroke=\"black\" d=\"M250.5,-187C250.5,-187 112.5,-187 112.5,-187 106.5,-187 100.5,-181 100.5,-175 100.5,-175 100.5,-116 100.5,-116 100.5,-110 106.5,-104 112.5,-104 112.5,-104 250.5,-104 250.5,-104 256.5,-104 262.5,-110 262.5,-116 262.5,-116 262.5,-175 262.5,-175 262.5,-181 256.5,-187 250.5,-187\"/>\n<text text-anchor=\"start\" x=\"108.5\" y=\"-171.8\" font-family=\"Helvetica,sans-Serif\" font-size=\"14.00\">sepal length (cm) ≤ 4.95</text>\n<text text-anchor=\"start\" x=\"134\" y=\"-156.8\" font-family=\"Helvetica,sans-Serif\" font-size=\"14.00\">entropy = 0.172</text>\n<text text-anchor=\"start\" x=\"140.5\" y=\"-141.8\" font-family=\"Helvetica,sans-Serif\" font-size=\"14.00\">samples = 39</text>\n<text text-anchor=\"start\" x=\"131\" y=\"-126.8\" font-family=\"Helvetica,sans-Serif\" font-size=\"14.00\">value = [0, 38, 1]</text>\n<text text-anchor=\"start\" x=\"129\" y=\"-111.8\" font-family=\"Helvetica,sans-Serif\" font-size=\"14.00\">class = versicolor</text>\n</g>\n<!-- 2&#45;&gt;3 -->\n<g id=\"edge3\" class=\"edge\">\n<title>2&#45;&gt;3</title>\n<path fill=\"none\" stroke=\"black\" d=\"M238.97,-222.91C232.21,-213.92 224.98,-204.32 218.02,-195.05\"/>\n<polygon fill=\"black\" stroke=\"black\" points=\"220.79,-192.91 211.98,-187.02 215.19,-197.12 220.79,-192.91\"/>\n</g>\n<!-- 6 -->\n<g id=\"node7\" class=\"node\">\n<title>6</title>\n<path fill=\"#8f4fe8\" stroke=\"black\" d=\"M422.5,-187C422.5,-187 292.5,-187 292.5,-187 286.5,-187 280.5,-181 280.5,-175 280.5,-175 280.5,-116 280.5,-116 280.5,-110 286.5,-104 292.5,-104 292.5,-104 422.5,-104 422.5,-104 428.5,-104 434.5,-110 434.5,-116 434.5,-116 434.5,-175 434.5,-175 434.5,-181 428.5,-187 422.5,-187\"/>\n<text text-anchor=\"start\" x=\"288.5\" y=\"-171.8\" font-family=\"Helvetica,sans-Serif\" font-size=\"14.00\">petal width (cm) ≤ 1.75</text>\n<text text-anchor=\"start\" x=\"310\" y=\"-156.8\" font-family=\"Helvetica,sans-Serif\" font-size=\"14.00\">entropy = 0.469</text>\n<text text-anchor=\"start\" x=\"316.5\" y=\"-141.8\" font-family=\"Helvetica,sans-Serif\" font-size=\"14.00\">samples = 40</text>\n<text text-anchor=\"start\" x=\"307\" y=\"-126.8\" font-family=\"Helvetica,sans-Serif\" font-size=\"14.00\">value = [0, 4, 36]</text>\n<text text-anchor=\"start\" x=\"309\" y=\"-111.8\" font-family=\"Helvetica,sans-Serif\" font-size=\"14.00\">class = virginica</text>\n</g>\n<!-- 2&#45;&gt;6 -->\n<g id=\"edge6\" class=\"edge\">\n<title>2&#45;&gt;6</title>\n<path fill=\"none\" stroke=\"black\" d=\"M300.03,-222.91C306.79,-213.92 314.02,-204.32 320.98,-195.05\"/>\n<polygon fill=\"black\" stroke=\"black\" points=\"323.81,-197.12 327.02,-187.02 318.21,-192.91 323.81,-197.12\"/>\n</g>\n<!-- 4 -->\n<g id=\"node5\" class=\"node\">\n<title>4</title>\n<path fill=\"#8139e5\" stroke=\"black\" d=\"M101,-68C101,-68 12,-68 12,-68 6,-68 0,-62 0,-56 0,-56 0,-12 0,-12 0,-6 6,0 12,0 12,0 101,0 101,0 107,0 113,-6 113,-12 113,-12 113,-56 113,-56 113,-62 107,-68 101,-68\"/>\n<text text-anchor=\"start\" x=\"16.5\" y=\"-52.8\" font-family=\"Helvetica,sans-Serif\" font-size=\"14.00\">entropy = 0.0</text>\n<text text-anchor=\"start\" x=\"19\" y=\"-37.8\" font-family=\"Helvetica,sans-Serif\" font-size=\"14.00\">samples = 1</text>\n<text text-anchor=\"start\" x=\"9.5\" y=\"-22.8\" font-family=\"Helvetica,sans-Serif\" font-size=\"14.00\">value = [0, 0, 1]</text>\n<text text-anchor=\"start\" x=\"8\" y=\"-7.8\" font-family=\"Helvetica,sans-Serif\" font-size=\"14.00\">class = virginica</text>\n</g>\n<!-- 3&#45;&gt;4 -->\n<g id=\"edge4\" class=\"edge\">\n<title>3&#45;&gt;4</title>\n<path fill=\"none\" stroke=\"black\" d=\"M134.95,-103.73C124.23,-94.33 112.83,-84.35 102.15,-74.99\"/>\n<polygon fill=\"black\" stroke=\"black\" points=\"104.34,-72.26 94.51,-68.3 99.73,-77.52 104.34,-72.26\"/>\n</g>\n<!-- 5 -->\n<g id=\"node6\" class=\"node\">\n<title>5</title>\n<path fill=\"#39e581\" stroke=\"black\" d=\"M240,-68C240,-68 143,-68 143,-68 137,-68 131,-62 131,-56 131,-56 131,-12 131,-12 131,-6 137,0 143,0 143,0 240,0 240,0 246,0 252,-6 252,-12 252,-12 252,-56 252,-56 252,-62 246,-68 240,-68\"/>\n<text text-anchor=\"start\" x=\"151.5\" y=\"-52.8\" font-family=\"Helvetica,sans-Serif\" font-size=\"14.00\">entropy = 0.0</text>\n<text text-anchor=\"start\" x=\"150.5\" y=\"-37.8\" font-family=\"Helvetica,sans-Serif\" font-size=\"14.00\">samples = 38</text>\n<text text-anchor=\"start\" x=\"141\" y=\"-22.8\" font-family=\"Helvetica,sans-Serif\" font-size=\"14.00\">value = [0, 38, 0]</text>\n<text text-anchor=\"start\" x=\"139\" y=\"-7.8\" font-family=\"Helvetica,sans-Serif\" font-size=\"14.00\">class = versicolor</text>\n</g>\n<!-- 3&#45;&gt;5 -->\n<g id=\"edge5\" class=\"edge\">\n<title>3&#45;&gt;5</title>\n<path fill=\"none\" stroke=\"black\" d=\"M185.22,-103.73C185.98,-95.43 186.78,-86.67 187.55,-78.28\"/>\n<polygon fill=\"black\" stroke=\"black\" points=\"191.03,-78.58 188.46,-68.3 184.06,-77.94 191.03,-78.58\"/>\n</g>\n<!-- 7 -->\n<g id=\"node8\" class=\"node\">\n<title>7</title>\n<path fill=\"#cef8e0\" stroke=\"black\" d=\"M397,-68C397,-68 300,-68 300,-68 294,-68 288,-62 288,-56 288,-56 288,-12 288,-12 288,-6 294,0 300,0 300,0 397,0 397,0 403,0 409,-6 409,-12 409,-12 409,-56 409,-56 409,-62 403,-68 397,-68\"/>\n<text text-anchor=\"start\" x=\"301\" y=\"-52.8\" font-family=\"Helvetica,sans-Serif\" font-size=\"14.00\">entropy = 0.985</text>\n<text text-anchor=\"start\" x=\"311\" y=\"-37.8\" font-family=\"Helvetica,sans-Serif\" font-size=\"14.00\">samples = 7</text>\n<text text-anchor=\"start\" x=\"301.5\" y=\"-22.8\" font-family=\"Helvetica,sans-Serif\" font-size=\"14.00\">value = [0, 4, 3]</text>\n<text text-anchor=\"start\" x=\"296\" y=\"-7.8\" font-family=\"Helvetica,sans-Serif\" font-size=\"14.00\">class = versicolor</text>\n</g>\n<!-- 6&#45;&gt;7 -->\n<g id=\"edge7\" class=\"edge\">\n<title>6&#45;&gt;7</title>\n<path fill=\"none\" stroke=\"black\" d=\"M354.15,-103.73C353.47,-95.43 352.75,-86.67 352.06,-78.28\"/>\n<polygon fill=\"black\" stroke=\"black\" points=\"355.54,-77.98 351.24,-68.3 348.57,-78.55 355.54,-77.98\"/>\n</g>\n<!-- 8 -->\n<g id=\"node9\" class=\"node\">\n<title>8</title>\n<path fill=\"#8139e5\" stroke=\"black\" d=\"M532,-68C532,-68 439,-68 439,-68 433,-68 427,-62 427,-56 427,-56 427,-12 427,-12 427,-6 433,0 439,0 439,0 532,0 532,0 538,0 544,-6 544,-12 544,-12 544,-56 544,-56 544,-62 538,-68 532,-68\"/>\n<text text-anchor=\"start\" x=\"445.5\" y=\"-52.8\" font-family=\"Helvetica,sans-Serif\" font-size=\"14.00\">entropy = 0.0</text>\n<text text-anchor=\"start\" x=\"444.5\" y=\"-37.8\" font-family=\"Helvetica,sans-Serif\" font-size=\"14.00\">samples = 33</text>\n<text text-anchor=\"start\" x=\"435\" y=\"-22.8\" font-family=\"Helvetica,sans-Serif\" font-size=\"14.00\">value = [0, 0, 33]</text>\n<text text-anchor=\"start\" x=\"437\" y=\"-7.8\" font-family=\"Helvetica,sans-Serif\" font-size=\"14.00\">class = virginica</text>\n</g>\n<!-- 6&#45;&gt;8 -->\n<g id=\"edge8\" class=\"edge\">\n<title>6&#45;&gt;8</title>\n<path fill=\"none\" stroke=\"black\" d=\"M405.16,-103.73C416.14,-94.33 427.81,-84.35 438.76,-74.99\"/>\n<polygon fill=\"black\" stroke=\"black\" points=\"441.25,-77.46 446.57,-68.3 436.7,-72.14 441.25,-77.46\"/>\n</g>\n</g>\n</svg>\n",
            "text/plain": [
              "<graphviz.sources.Source at 0x7f86ca9de0a0>"
            ]
          },
          "metadata": {},
          "execution_count": 14
        }
      ]
    }
  ]
}