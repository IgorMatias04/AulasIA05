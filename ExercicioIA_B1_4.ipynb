{
  "nbformat": 4,
  "nbformat_minor": 0,
  "metadata": {
    "colab": {
      "provenance": [],
      "authorship_tag": "ABX9TyP/O7osW6nrxZnTXiCmbP5d",
      "include_colab_link": true
    },
    "kernelspec": {
      "name": "python3",
      "display_name": "Python 3"
    },
    "language_info": {
      "name": "python"
    }
  },
  "cells": [
    {
      "cell_type": "markdown",
      "metadata": {
        "id": "view-in-github",
        "colab_type": "text"
      },
      "source": [
        "<a href=\"https://colab.research.google.com/github/IgorMatias04/AulaIA-05/blob/main/ExercicioIA_B1_4.ipynb\" target=\"_parent\"><img src=\"https://colab.research.google.com/assets/colab-badge.svg\" alt=\"Open In Colab\"/></a>"
      ]
    },
    {
      "cell_type": "code",
      "execution_count": 2,
      "metadata": {
        "colab": {
          "base_uri": "https://localhost:8080/",
          "height": 1000
        },
        "id": "w5yph6UCsxn9",
        "outputId": "9956dbd7-e12c-4888-fab5-91f93652aef6"
      },
      "outputs": [
        {
          "output_type": "stream",
          "name": "stdout",
          "text": [
            ".. _iris_dataset:\n",
            "\n",
            "Iris plants dataset\n",
            "--------------------\n",
            "\n",
            "**Data Set Characteristics:**\n",
            "\n",
            "    :Number of Instances: 150 (50 in each of three classes)\n",
            "    :Number of Attributes: 4 numeric, predictive attributes and the class\n",
            "    :Attribute Information:\n",
            "        - sepal length in cm\n",
            "        - sepal width in cm\n",
            "        - petal length in cm\n",
            "        - petal width in cm\n",
            "        - class:\n",
            "                - Iris-Setosa\n",
            "                - Iris-Versicolour\n",
            "                - Iris-Virginica\n",
            "                \n",
            "    :Summary Statistics:\n",
            "\n",
            "    ============== ==== ==== ======= ===== ====================\n",
            "                    Min  Max   Mean    SD   Class Correlation\n",
            "    ============== ==== ==== ======= ===== ====================\n",
            "    sepal length:   4.3  7.9   5.84   0.83    0.7826\n",
            "    sepal width:    2.0  4.4   3.05   0.43   -0.4194\n",
            "    petal length:   1.0  6.9   3.76   1.76    0.9490  (high!)\n",
            "    petal width:    0.1  2.5   1.20   0.76    0.9565  (high!)\n",
            "    ============== ==== ==== ======= ===== ====================\n",
            "\n",
            "    :Missing Attribute Values: None\n",
            "    :Class Distribution: 33.3% for each of 3 classes.\n",
            "    :Creator: R.A. Fisher\n",
            "    :Donor: Michael Marshall (MARSHALL%PLU@io.arc.nasa.gov)\n",
            "    :Date: July, 1988\n",
            "\n",
            "The famous Iris database, first used by Sir R.A. Fisher. The dataset is taken\n",
            "from Fisher's paper. Note that it's the same as in R, but not as in the UCI\n",
            "Machine Learning Repository, which has two wrong data points.\n",
            "\n",
            "This is perhaps the best known database to be found in the\n",
            "pattern recognition literature.  Fisher's paper is a classic in the field and\n",
            "is referenced frequently to this day.  (See Duda & Hart, for example.)  The\n",
            "data set contains 3 classes of 50 instances each, where each class refers to a\n",
            "type of iris plant.  One class is linearly separable from the other 2; the\n",
            "latter are NOT linearly separable from each other.\n",
            "\n",
            ".. topic:: References\n",
            "\n",
            "   - Fisher, R.A. \"The use of multiple measurements in taxonomic problems\"\n",
            "     Annual Eugenics, 7, Part II, 179-188 (1936); also in \"Contributions to\n",
            "     Mathematical Statistics\" (John Wiley, NY, 1950).\n",
            "   - Duda, R.O., & Hart, P.E. (1973) Pattern Classification and Scene Analysis.\n",
            "     (Q327.D83) John Wiley & Sons.  ISBN 0-471-22361-1.  See page 218.\n",
            "   - Dasarathy, B.V. (1980) \"Nosing Around the Neighborhood: A New System\n",
            "     Structure and Classification Rule for Recognition in Partially Exposed\n",
            "     Environments\".  IEEE Transactions on Pattern Analysis and Machine\n",
            "     Intelligence, Vol. PAMI-2, No. 1, 67-71.\n",
            "   - Gates, G.W. (1972) \"The Reduced Nearest Neighbor Rule\".  IEEE Transactions\n",
            "     on Information Theory, May 1972, 431-433.\n",
            "   - See also: 1988 MLC Proceedings, 54-64.  Cheeseman et al\"s AUTOCLASS II\n",
            "     conceptual clustering system finds 3 classes in the data.\n",
            "   - Many, many more ...\n",
            "\n",
            "Matriz de confusão detalhada:\n",
            " Predito   0   1  2  Todos\n",
            "Real                     \n",
            "0        17   0  0     17\n",
            "1         0  13  1     14\n",
            "2         0   0  7      7\n",
            "Todos    17  13  8     38\n",
            "Relatório sobre a qualidade:\n",
            "\n",
            "              precision    recall  f1-score   support\n",
            "\n",
            "      Setosa       1.00      1.00      1.00        17\n",
            "  Versicolor       1.00      0.93      0.96        14\n",
            "   Virgínica       0.88      1.00      0.93         7\n",
            "\n",
            "    accuracy                           0.97        38\n",
            "   macro avg       0.96      0.98      0.97        38\n",
            "weighted avg       0.98      0.97      0.97        38\n",
            "\n"
          ]
        },
        {
          "output_type": "execute_result",
          "data": {
            "image/svg+xml": "<?xml version=\"1.0\" encoding=\"UTF-8\" standalone=\"no\"?>\n<!DOCTYPE svg PUBLIC \"-//W3C//DTD SVG 1.1//EN\"\n \"http://www.w3.org/Graphics/SVG/1.1/DTD/svg11.dtd\">\n<!-- Generated by graphviz version 2.43.0 (0)\n -->\n<!-- Title: Tree Pages: 1 -->\n<svg width=\"632pt\" height=\"671pt\"\n viewBox=\"0.00 0.00 632.00 671.00\" xmlns=\"http://www.w3.org/2000/svg\" xmlns:xlink=\"http://www.w3.org/1999/xlink\">\n<g id=\"graph0\" class=\"graph\" transform=\"scale(1 1) rotate(0) translate(4 667)\">\n<title>Tree</title>\n<polygon fill=\"white\" stroke=\"transparent\" points=\"-4,4 -4,-667 628,-667 628,4 -4,4\"/>\n<!-- 0 -->\n<g id=\"node1\" class=\"node\">\n<title>0</title>\n<path fill=\"#f3edfd\" stroke=\"black\" d=\"M332.5,-663C332.5,-663 210.5,-663 210.5,-663 204.5,-663 198.5,-657 198.5,-651 198.5,-651 198.5,-592 198.5,-592 198.5,-586 204.5,-580 210.5,-580 210.5,-580 332.5,-580 332.5,-580 338.5,-580 344.5,-586 344.5,-592 344.5,-592 344.5,-651 344.5,-651 344.5,-657 338.5,-663 332.5,-663\"/>\n<text text-anchor=\"start\" x=\"206.5\" y=\"-647.8\" font-family=\"Helvetica,sans-Serif\" font-size=\"14.00\">petal width (cm) ≤ 0.8</text>\n<text text-anchor=\"start\" x=\"224\" y=\"-632.8\" font-family=\"Helvetica,sans-Serif\" font-size=\"14.00\">entropy = 1.576</text>\n<text text-anchor=\"start\" x=\"226.5\" y=\"-617.8\" font-family=\"Helvetica,sans-Serif\" font-size=\"14.00\">samples = 112</text>\n<text text-anchor=\"start\" x=\"213.5\" y=\"-602.8\" font-family=\"Helvetica,sans-Serif\" font-size=\"14.00\">value = [33, 36, 43]</text>\n<text text-anchor=\"start\" x=\"223\" y=\"-587.8\" font-family=\"Helvetica,sans-Serif\" font-size=\"14.00\">class = virginica</text>\n</g>\n<!-- 1 -->\n<g id=\"node2\" class=\"node\">\n<title>1</title>\n<path fill=\"#e58139\" stroke=\"black\" d=\"M241,-536.5C241,-536.5 148,-536.5 148,-536.5 142,-536.5 136,-530.5 136,-524.5 136,-524.5 136,-480.5 136,-480.5 136,-474.5 142,-468.5 148,-468.5 148,-468.5 241,-468.5 241,-468.5 247,-468.5 253,-474.5 253,-480.5 253,-480.5 253,-524.5 253,-524.5 253,-530.5 247,-536.5 241,-536.5\"/>\n<text text-anchor=\"start\" x=\"154.5\" y=\"-521.3\" font-family=\"Helvetica,sans-Serif\" font-size=\"14.00\">entropy = 0.0</text>\n<text text-anchor=\"start\" x=\"153.5\" y=\"-506.3\" font-family=\"Helvetica,sans-Serif\" font-size=\"14.00\">samples = 33</text>\n<text text-anchor=\"start\" x=\"144\" y=\"-491.3\" font-family=\"Helvetica,sans-Serif\" font-size=\"14.00\">value = [33, 0, 0]</text>\n<text text-anchor=\"start\" x=\"151\" y=\"-476.3\" font-family=\"Helvetica,sans-Serif\" font-size=\"14.00\">class = setosa</text>\n</g>\n<!-- 0&#45;&gt;1 -->\n<g id=\"edge1\" class=\"edge\">\n<title>0&#45;&gt;1</title>\n<path fill=\"none\" stroke=\"black\" d=\"M244.79,-579.91C237.38,-568.65 229.33,-556.42 221.88,-545.11\"/>\n<polygon fill=\"black\" stroke=\"black\" points=\"224.75,-543.1 216.33,-536.67 218.9,-546.94 224.75,-543.1\"/>\n<text text-anchor=\"middle\" x=\"211.28\" y=\"-557.45\" font-family=\"Helvetica,sans-Serif\" font-size=\"14.00\">True</text>\n</g>\n<!-- 2 -->\n<g id=\"node3\" class=\"node\">\n<title>2</title>\n<path fill=\"#eadffb\" stroke=\"black\" d=\"M413.5,-544C413.5,-544 283.5,-544 283.5,-544 277.5,-544 271.5,-538 271.5,-532 271.5,-532 271.5,-473 271.5,-473 271.5,-467 277.5,-461 283.5,-461 283.5,-461 413.5,-461 413.5,-461 419.5,-461 425.5,-467 425.5,-473 425.5,-473 425.5,-532 425.5,-532 425.5,-538 419.5,-544 413.5,-544\"/>\n<text text-anchor=\"start\" x=\"279.5\" y=\"-528.8\" font-family=\"Helvetica,sans-Serif\" font-size=\"14.00\">petal width (cm) ≤ 1.75</text>\n<text text-anchor=\"start\" x=\"301\" y=\"-513.8\" font-family=\"Helvetica,sans-Serif\" font-size=\"14.00\">entropy = 0.994</text>\n<text text-anchor=\"start\" x=\"307.5\" y=\"-498.8\" font-family=\"Helvetica,sans-Serif\" font-size=\"14.00\">samples = 79</text>\n<text text-anchor=\"start\" x=\"294\" y=\"-483.8\" font-family=\"Helvetica,sans-Serif\" font-size=\"14.00\">value = [0, 36, 43]</text>\n<text text-anchor=\"start\" x=\"300\" y=\"-468.8\" font-family=\"Helvetica,sans-Serif\" font-size=\"14.00\">class = virginica</text>\n</g>\n<!-- 0&#45;&gt;2 -->\n<g id=\"edge2\" class=\"edge\">\n<title>0&#45;&gt;2</title>\n<path fill=\"none\" stroke=\"black\" d=\"M298.21,-579.91C304.01,-571.1 310.2,-561.7 316.18,-552.61\"/>\n<polygon fill=\"black\" stroke=\"black\" points=\"319.26,-554.3 321.83,-544.02 313.41,-550.45 319.26,-554.3\"/>\n<text text-anchor=\"middle\" x=\"326.88\" y=\"-564.81\" font-family=\"Helvetica,sans-Serif\" font-size=\"14.00\">False</text>\n</g>\n<!-- 3 -->\n<g id=\"node4\" class=\"node\">\n<title>3</title>\n<path fill=\"#4fe88f\" stroke=\"black\" d=\"M338,-425C338,-425 203,-425 203,-425 197,-425 191,-419 191,-413 191,-413 191,-354 191,-354 191,-348 197,-342 203,-342 203,-342 338,-342 338,-342 344,-342 350,-348 350,-354 350,-354 350,-413 350,-413 350,-419 344,-425 338,-425\"/>\n<text text-anchor=\"start\" x=\"199\" y=\"-409.8\" font-family=\"Helvetica,sans-Serif\" font-size=\"14.00\">petal length (cm) ≤ 4.95</text>\n<text text-anchor=\"start\" x=\"223\" y=\"-394.8\" font-family=\"Helvetica,sans-Serif\" font-size=\"14.00\">entropy = 0.469</text>\n<text text-anchor=\"start\" x=\"229.5\" y=\"-379.8\" font-family=\"Helvetica,sans-Serif\" font-size=\"14.00\">samples = 40</text>\n<text text-anchor=\"start\" x=\"220\" y=\"-364.8\" font-family=\"Helvetica,sans-Serif\" font-size=\"14.00\">value = [0, 36, 4]</text>\n<text text-anchor=\"start\" x=\"218\" y=\"-349.8\" font-family=\"Helvetica,sans-Serif\" font-size=\"14.00\">class = versicolor</text>\n</g>\n<!-- 2&#45;&gt;3 -->\n<g id=\"edge3\" class=\"edge\">\n<title>2&#45;&gt;3</title>\n<path fill=\"none\" stroke=\"black\" d=\"M321.44,-460.91C315.57,-452.1 309.3,-442.7 303.24,-433.61\"/>\n<polygon fill=\"black\" stroke=\"black\" points=\"305.97,-431.4 297.51,-425.02 300.15,-435.28 305.97,-431.4\"/>\n</g>\n<!-- 12 -->\n<g id=\"node13\" class=\"node\">\n<title>12</title>\n<path fill=\"#8139e5\" stroke=\"black\" d=\"M473,-417.5C473,-417.5 380,-417.5 380,-417.5 374,-417.5 368,-411.5 368,-405.5 368,-405.5 368,-361.5 368,-361.5 368,-355.5 374,-349.5 380,-349.5 380,-349.5 473,-349.5 473,-349.5 479,-349.5 485,-355.5 485,-361.5 485,-361.5 485,-405.5 485,-405.5 485,-411.5 479,-417.5 473,-417.5\"/>\n<text text-anchor=\"start\" x=\"386.5\" y=\"-402.3\" font-family=\"Helvetica,sans-Serif\" font-size=\"14.00\">entropy = 0.0</text>\n<text text-anchor=\"start\" x=\"385.5\" y=\"-387.3\" font-family=\"Helvetica,sans-Serif\" font-size=\"14.00\">samples = 39</text>\n<text text-anchor=\"start\" x=\"376\" y=\"-372.3\" font-family=\"Helvetica,sans-Serif\" font-size=\"14.00\">value = [0, 0, 39]</text>\n<text text-anchor=\"start\" x=\"378\" y=\"-357.3\" font-family=\"Helvetica,sans-Serif\" font-size=\"14.00\">class = virginica</text>\n</g>\n<!-- 2&#45;&gt;12 -->\n<g id=\"edge12\" class=\"edge\">\n<title>2&#45;&gt;12</title>\n<path fill=\"none\" stroke=\"black\" d=\"M375.56,-460.91C383.07,-449.65 391.22,-437.42 398.76,-426.11\"/>\n<polygon fill=\"black\" stroke=\"black\" points=\"401.75,-427.93 404.39,-417.67 395.93,-424.05 401.75,-427.93\"/>\n</g>\n<!-- 4 -->\n<g id=\"node5\" class=\"node\">\n<title>4</title>\n<path fill=\"#3fe685\" stroke=\"black\" d=\"M249.5,-306C249.5,-306 119.5,-306 119.5,-306 113.5,-306 107.5,-300 107.5,-294 107.5,-294 107.5,-235 107.5,-235 107.5,-229 113.5,-223 119.5,-223 119.5,-223 249.5,-223 249.5,-223 255.5,-223 261.5,-229 261.5,-235 261.5,-235 261.5,-294 261.5,-294 261.5,-300 255.5,-306 249.5,-306\"/>\n<text text-anchor=\"start\" x=\"115.5\" y=\"-290.8\" font-family=\"Helvetica,sans-Serif\" font-size=\"14.00\">petal width (cm) ≤ 1.65</text>\n<text text-anchor=\"start\" x=\"137\" y=\"-275.8\" font-family=\"Helvetica,sans-Serif\" font-size=\"14.00\">entropy = 0.187</text>\n<text text-anchor=\"start\" x=\"143.5\" y=\"-260.8\" font-family=\"Helvetica,sans-Serif\" font-size=\"14.00\">samples = 35</text>\n<text text-anchor=\"start\" x=\"134\" y=\"-245.8\" font-family=\"Helvetica,sans-Serif\" font-size=\"14.00\">value = [0, 34, 1]</text>\n<text text-anchor=\"start\" x=\"132\" y=\"-230.8\" font-family=\"Helvetica,sans-Serif\" font-size=\"14.00\">class = versicolor</text>\n</g>\n<!-- 3&#45;&gt;4 -->\n<g id=\"edge4\" class=\"edge\">\n<title>3&#45;&gt;4</title>\n<path fill=\"none\" stroke=\"black\" d=\"M240.66,-341.91C234.13,-333.01 227.14,-323.51 220.39,-314.33\"/>\n<polygon fill=\"black\" stroke=\"black\" points=\"223.03,-312.01 214.28,-306.02 217.39,-316.15 223.03,-312.01\"/>\n</g>\n<!-- 7 -->\n<g id=\"node8\" class=\"node\">\n<title>7</title>\n<path fill=\"#d5bdf6\" stroke=\"black\" d=\"M421.5,-306C421.5,-306 291.5,-306 291.5,-306 285.5,-306 279.5,-300 279.5,-294 279.5,-294 279.5,-235 279.5,-235 279.5,-229 285.5,-223 291.5,-223 291.5,-223 421.5,-223 421.5,-223 427.5,-223 433.5,-229 433.5,-235 433.5,-235 433.5,-294 433.5,-294 433.5,-300 427.5,-306 421.5,-306\"/>\n<text text-anchor=\"start\" x=\"287.5\" y=\"-290.8\" font-family=\"Helvetica,sans-Serif\" font-size=\"14.00\">petal width (cm) ≤ 1.55</text>\n<text text-anchor=\"start\" x=\"309\" y=\"-275.8\" font-family=\"Helvetica,sans-Serif\" font-size=\"14.00\">entropy = 0.971</text>\n<text text-anchor=\"start\" x=\"319\" y=\"-260.8\" font-family=\"Helvetica,sans-Serif\" font-size=\"14.00\">samples = 5</text>\n<text text-anchor=\"start\" x=\"309.5\" y=\"-245.8\" font-family=\"Helvetica,sans-Serif\" font-size=\"14.00\">value = [0, 2, 3]</text>\n<text text-anchor=\"start\" x=\"308\" y=\"-230.8\" font-family=\"Helvetica,sans-Serif\" font-size=\"14.00\">class = virginica</text>\n</g>\n<!-- 3&#45;&gt;7 -->\n<g id=\"edge7\" class=\"edge\">\n<title>3&#45;&gt;7</title>\n<path fill=\"none\" stroke=\"black\" d=\"M300.34,-341.91C306.87,-333.01 313.86,-323.51 320.61,-314.33\"/>\n<polygon fill=\"black\" stroke=\"black\" points=\"323.61,-316.15 326.72,-306.02 317.97,-312.01 323.61,-316.15\"/>\n</g>\n<!-- 5 -->\n<g id=\"node6\" class=\"node\">\n<title>5</title>\n<path fill=\"#39e581\" stroke=\"black\" d=\"M109,-179.5C109,-179.5 12,-179.5 12,-179.5 6,-179.5 0,-173.5 0,-167.5 0,-167.5 0,-123.5 0,-123.5 0,-117.5 6,-111.5 12,-111.5 12,-111.5 109,-111.5 109,-111.5 115,-111.5 121,-117.5 121,-123.5 121,-123.5 121,-167.5 121,-167.5 121,-173.5 115,-179.5 109,-179.5\"/>\n<text text-anchor=\"start\" x=\"20.5\" y=\"-164.3\" font-family=\"Helvetica,sans-Serif\" font-size=\"14.00\">entropy = 0.0</text>\n<text text-anchor=\"start\" x=\"19.5\" y=\"-149.3\" font-family=\"Helvetica,sans-Serif\" font-size=\"14.00\">samples = 34</text>\n<text text-anchor=\"start\" x=\"10\" y=\"-134.3\" font-family=\"Helvetica,sans-Serif\" font-size=\"14.00\">value = [0, 34, 0]</text>\n<text text-anchor=\"start\" x=\"8\" y=\"-119.3\" font-family=\"Helvetica,sans-Serif\" font-size=\"14.00\">class = versicolor</text>\n</g>\n<!-- 4&#45;&gt;5 -->\n<g id=\"edge5\" class=\"edge\">\n<title>4&#45;&gt;5</title>\n<path fill=\"none\" stroke=\"black\" d=\"M141.48,-222.91C129.08,-211.21 115.57,-198.46 103.19,-186.78\"/>\n<polygon fill=\"black\" stroke=\"black\" points=\"105.33,-183.98 95.65,-179.67 100.52,-189.08 105.33,-183.98\"/>\n</g>\n<!-- 6 -->\n<g id=\"node7\" class=\"node\">\n<title>6</title>\n<path fill=\"#8139e5\" stroke=\"black\" d=\"M240,-179.5C240,-179.5 151,-179.5 151,-179.5 145,-179.5 139,-173.5 139,-167.5 139,-167.5 139,-123.5 139,-123.5 139,-117.5 145,-111.5 151,-111.5 151,-111.5 240,-111.5 240,-111.5 246,-111.5 252,-117.5 252,-123.5 252,-123.5 252,-167.5 252,-167.5 252,-173.5 246,-179.5 240,-179.5\"/>\n<text text-anchor=\"start\" x=\"155.5\" y=\"-164.3\" font-family=\"Helvetica,sans-Serif\" font-size=\"14.00\">entropy = 0.0</text>\n<text text-anchor=\"start\" x=\"158\" y=\"-149.3\" font-family=\"Helvetica,sans-Serif\" font-size=\"14.00\">samples = 1</text>\n<text text-anchor=\"start\" x=\"148.5\" y=\"-134.3\" font-family=\"Helvetica,sans-Serif\" font-size=\"14.00\">value = [0, 0, 1]</text>\n<text text-anchor=\"start\" x=\"147\" y=\"-119.3\" font-family=\"Helvetica,sans-Serif\" font-size=\"14.00\">class = virginica</text>\n</g>\n<!-- 4&#45;&gt;6 -->\n<g id=\"edge6\" class=\"edge\">\n<title>4&#45;&gt;6</title>\n<path fill=\"none\" stroke=\"black\" d=\"M188.32,-222.91C189.32,-212.2 190.41,-200.62 191.43,-189.78\"/>\n<polygon fill=\"black\" stroke=\"black\" points=\"194.93,-189.95 192.38,-179.67 187.96,-189.3 194.93,-189.95\"/>\n</g>\n<!-- 8 -->\n<g id=\"node9\" class=\"node\">\n<title>8</title>\n<path fill=\"#8139e5\" stroke=\"black\" d=\"M391,-179.5C391,-179.5 302,-179.5 302,-179.5 296,-179.5 290,-173.5 290,-167.5 290,-167.5 290,-123.5 290,-123.5 290,-117.5 296,-111.5 302,-111.5 302,-111.5 391,-111.5 391,-111.5 397,-111.5 403,-117.5 403,-123.5 403,-123.5 403,-167.5 403,-167.5 403,-173.5 397,-179.5 391,-179.5\"/>\n<text text-anchor=\"start\" x=\"306.5\" y=\"-164.3\" font-family=\"Helvetica,sans-Serif\" font-size=\"14.00\">entropy = 0.0</text>\n<text text-anchor=\"start\" x=\"309\" y=\"-149.3\" font-family=\"Helvetica,sans-Serif\" font-size=\"14.00\">samples = 2</text>\n<text text-anchor=\"start\" x=\"299.5\" y=\"-134.3\" font-family=\"Helvetica,sans-Serif\" font-size=\"14.00\">value = [0, 0, 2]</text>\n<text text-anchor=\"start\" x=\"298\" y=\"-119.3\" font-family=\"Helvetica,sans-Serif\" font-size=\"14.00\">class = virginica</text>\n</g>\n<!-- 7&#45;&gt;8 -->\n<g id=\"edge8\" class=\"edge\">\n<title>7&#45;&gt;8</title>\n<path fill=\"none\" stroke=\"black\" d=\"M353.03,-222.91C352.12,-212.2 351.13,-200.62 350.2,-189.78\"/>\n<polygon fill=\"black\" stroke=\"black\" points=\"353.67,-189.33 349.33,-179.67 346.7,-189.93 353.67,-189.33\"/>\n</g>\n<!-- 9 -->\n<g id=\"node10\" class=\"node\">\n<title>9</title>\n<path fill=\"#9cf2c0\" stroke=\"black\" d=\"M568,-187C568,-187 433,-187 433,-187 427,-187 421,-181 421,-175 421,-175 421,-116 421,-116 421,-110 427,-104 433,-104 433,-104 568,-104 568,-104 574,-104 580,-110 580,-116 580,-116 580,-175 580,-175 580,-181 574,-187 568,-187\"/>\n<text text-anchor=\"start\" x=\"429\" y=\"-171.8\" font-family=\"Helvetica,sans-Serif\" font-size=\"14.00\">petal length (cm) ≤ 5.45</text>\n<text text-anchor=\"start\" x=\"453\" y=\"-156.8\" font-family=\"Helvetica,sans-Serif\" font-size=\"14.00\">entropy = 0.918</text>\n<text text-anchor=\"start\" x=\"463\" y=\"-141.8\" font-family=\"Helvetica,sans-Serif\" font-size=\"14.00\">samples = 3</text>\n<text text-anchor=\"start\" x=\"453.5\" y=\"-126.8\" font-family=\"Helvetica,sans-Serif\" font-size=\"14.00\">value = [0, 2, 1]</text>\n<text text-anchor=\"start\" x=\"448\" y=\"-111.8\" font-family=\"Helvetica,sans-Serif\" font-size=\"14.00\">class = versicolor</text>\n</g>\n<!-- 7&#45;&gt;9 -->\n<g id=\"edge9\" class=\"edge\">\n<title>7&#45;&gt;9</title>\n<path fill=\"none\" stroke=\"black\" d=\"M406.46,-222.91C418.19,-213.38 430.78,-203.15 442.81,-193.37\"/>\n<polygon fill=\"black\" stroke=\"black\" points=\"445.07,-196.04 450.63,-187.02 440.66,-190.61 445.07,-196.04\"/>\n</g>\n<!-- 10 -->\n<g id=\"node11\" class=\"node\">\n<title>10</title>\n<path fill=\"#39e581\" stroke=\"black\" d=\"M481,-68C481,-68 384,-68 384,-68 378,-68 372,-62 372,-56 372,-56 372,-12 372,-12 372,-6 378,0 384,0 384,0 481,0 481,0 487,0 493,-6 493,-12 493,-12 493,-56 493,-56 493,-62 487,-68 481,-68\"/>\n<text text-anchor=\"start\" x=\"392.5\" y=\"-52.8\" font-family=\"Helvetica,sans-Serif\" font-size=\"14.00\">entropy = 0.0</text>\n<text text-anchor=\"start\" x=\"395\" y=\"-37.8\" font-family=\"Helvetica,sans-Serif\" font-size=\"14.00\">samples = 2</text>\n<text text-anchor=\"start\" x=\"385.5\" y=\"-22.8\" font-family=\"Helvetica,sans-Serif\" font-size=\"14.00\">value = [0, 2, 0]</text>\n<text text-anchor=\"start\" x=\"380\" y=\"-7.8\" font-family=\"Helvetica,sans-Serif\" font-size=\"14.00\">class = versicolor</text>\n</g>\n<!-- 9&#45;&gt;10 -->\n<g id=\"edge10\" class=\"edge\">\n<title>9&#45;&gt;10</title>\n<path fill=\"none\" stroke=\"black\" d=\"M475.18,-103.73C469.74,-94.97 463.99,-85.7 458.52,-76.91\"/>\n<polygon fill=\"black\" stroke=\"black\" points=\"461.43,-74.95 453.18,-68.3 455.48,-78.64 461.43,-74.95\"/>\n</g>\n<!-- 11 -->\n<g id=\"node12\" class=\"node\">\n<title>11</title>\n<path fill=\"#8139e5\" stroke=\"black\" d=\"M612,-68C612,-68 523,-68 523,-68 517,-68 511,-62 511,-56 511,-56 511,-12 511,-12 511,-6 517,0 523,0 523,0 612,0 612,0 618,0 624,-6 624,-12 624,-12 624,-56 624,-56 624,-62 618,-68 612,-68\"/>\n<text text-anchor=\"start\" x=\"527.5\" y=\"-52.8\" font-family=\"Helvetica,sans-Serif\" font-size=\"14.00\">entropy = 0.0</text>\n<text text-anchor=\"start\" x=\"530\" y=\"-37.8\" font-family=\"Helvetica,sans-Serif\" font-size=\"14.00\">samples = 1</text>\n<text text-anchor=\"start\" x=\"520.5\" y=\"-22.8\" font-family=\"Helvetica,sans-Serif\" font-size=\"14.00\">value = [0, 0, 1]</text>\n<text text-anchor=\"start\" x=\"519\" y=\"-7.8\" font-family=\"Helvetica,sans-Serif\" font-size=\"14.00\">class = virginica</text>\n</g>\n<!-- 9&#45;&gt;11 -->\n<g id=\"edge11\" class=\"edge\">\n<title>9&#45;&gt;11</title>\n<path fill=\"none\" stroke=\"black\" d=\"M525.45,-103.73C530.81,-94.97 536.48,-85.7 541.86,-76.91\"/>\n<polygon fill=\"black\" stroke=\"black\" points=\"544.89,-78.66 547.12,-68.3 538.92,-75 544.89,-78.66\"/>\n</g>\n</g>\n</svg>\n",
            "text/plain": [
              "<graphviz.sources.Source at 0x7f6e58c0cfd0>"
            ]
          },
          "metadata": {},
          "execution_count": 2
        }
      ],
      "source": [
        "from sklearn.datasets import load_iris\n",
        "from sklearn import tree\n",
        "\n",
        "iris = load_iris()\n",
        "print(iris['DESCR'])\n",
        "\n",
        "from sklearn.model_selection import train_test_split\n",
        "#ALTERAÇÃO COM O TEST_SIZE\n",
        "X_train, X_test, y_train, y_test = train_test_split(iris.data, iris.target, test_size=0.25)\n",
        "\n",
        "clf = tree.DecisionTreeClassifier(criterion='entropy')\n",
        "clf = clf.fit(X_train, y_train)\n",
        "predictions = clf.predict(X_test)\n",
        "\n",
        "import pandas as pd\n",
        "\n",
        "print(\"\\nMatriz de confusão detalhada:\\n\",\n",
        "      pd.crosstab(y_test, predictions, rownames=['Real'], colnames=\n",
        " ['Predito'],\n",
        "        margins=True, margins_name='Todos'))\n",
        "\n",
        "import sklearn.metrics as metrics\n",
        "\n",
        "print(\"Relatório sobre a qualidade:\\n\")\n",
        "\n",
        "print(metrics.classification_report(y_test, predictions, target_names=['Setosa', 'Versicolor', 'Virgínica']))\n",
        "\n",
        "import graphviz\n",
        "dot_data = tree.export_graphviz(clf, out_file=None)\n",
        "graph = graphviz.Source(dot_data)\n",
        "graph.render(\"iris\")\n",
        "dot_data = tree.export_graphviz(clf, out_file=None,\n",
        "                              feature_names=iris.feature_names,\n",
        "                              class_names=iris.target_names,\n",
        "                              filled=True, rounded=True,\n",
        "                              special_characters=True)\n",
        "graph = graphviz.Source(dot_data, format=\"png\")\n",
        "graph"
      ]
    },
    {
      "cell_type": "code",
      "source": [],
      "metadata": {
        "id": "Q-sqxbGKsy9m"
      },
      "execution_count": null,
      "outputs": []
    }
  ]
}